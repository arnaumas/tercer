{
 "cells": [
  {
   "cell_type": "code",
   "execution_count": 1,
   "metadata": {
    "collapsed": true,
    "deletable": true,
    "editable": true
   },
   "outputs": [],
   "source": [
    "import numpy as np\n",
    "import matplotlib.pyplot as plt"
   ]
  },
  {
   "cell_type": "code",
   "execution_count": 204,
   "metadata": {
    "collapsed": false,
    "deletable": true,
    "editable": true
   },
   "outputs": [],
   "source": [
    "x,y = np.linspace(0,3,100),np.linspace(0,3,100)\n",
    "X,Y = np.meshgrid(x,y)\n",
    "U = X*(1 - X - a*Y)\n",
    "V = \n",
    "V1 = 0"
   ]
  },
  {
   "cell_type": "code",
   "execution_count": 258,
   "metadata": {
    "collapsed": false,
    "deletable": true,
    "editable": true
   },
   "outputs": [],
   "source": [
    "start1 = [[k/2, 2] for k in range(-5, 6, 1) if k != 0]\n",
    "start2 = [[k/2, -2] for k in range(-5, 6, 1) if k != 0]\n",
    "start3 = [[2, k/4] for k in range(-3, 4, 1) if k != 0]\n",
    "start4 = [[-2, k/4] for k in range(-3, 4, 1) if k != 0]"
   ]
  },
  {
   "cell_type": "code",
   "execution_count": 275,
   "metadata": {
    "collapsed": false,
    "deletable": true,
    "editable": true
   },
   "outputs": [],
   "source": [
    "fig0,ax0 = plt.subplots()\n",
    "strmS = ax0.streamplot(x, y, U, V, start_points = start1 + start2 + start3 + start4, color=\"blue\", linewidth = 1)\n",
    "ax0.set_aspect('equal')\n",
    "ax0.axhline(y = 1, xmin = 0.25, xmax = 0.75, color = 'blue', linewidth = 1)\n",
    "ax0.arrow(-3, 1, 1.5, 0, width = 0.004, color = 'blue', linewidth = 0.7)\n",
    "ax0.arrow(3, 1, -1.5, 0, width = 0.004, color = 'blue', linewidth = 0.7)\n",
    "\n",
    "ax0.axhline(y = 0, xmin = 0.25, xmax = 0.75, color = 'blue', linewidth = 1)\n",
    "ax0.arrow(-3, 0, 1.5, 0, width = 0.004, color = 'blue', linewidth = 0.7)\n",
    "ax0.arrow(3, 0, -1.5, 0, width = 0.004, color = 'blue', linewidth = 0.7)\n",
    "\n",
    "ax0.axhline(y = -1, xmin = 0.25, xmax = 0.75, color = 'blue', linewidth = 1)\n",
    "ax0.arrow(-3, -1, 1.5, 0, width = 0.004, color = 'blue', linewidth = 0.7)\n",
    "ax0.arrow(3, -1, -1.5, 0, width = 0.004, color = 'blue', linewidth = 0.7)\n",
    "\n",
    "ax0.axvline(x = 0, ymin = 1/6, ymax = 5/12)\n",
    "ax0.axvline(x = 0, ymin = 7/12, ymax = 5/6)\n",
    "ax0.arrow(0, 3, 0, -1, width = 0.004, color = 'blue', linewidth = 0.7)\n",
    "ax0.arrow(0, -3, 0, 1, width = 0.004, color = 'blue', linewidth = 0.7)\n",
    "\n",
    "ax0.arrow(0, 0, 0, -0.5, width = 0.004, color = 'blue', linewidth = 0.7)\n",
    "ax0.arrow(0, 0, 0, 0.5, width = 0.004, color = 'blue', linewidth = 0.7)\n",
    "\n",
    "plt.plot([0,0,0], [-1,0,1], 'bo', markeredgecolor = 'blue', markersize = 4)\n",
    "\n",
    "plt.savefig('retrat-gradient.png')"
   ]
  },
  {
   "cell_type": "code",
   "execution_count": null,
   "metadata": {
    "collapsed": true,
    "deletable": true,
    "editable": true
   },
   "outputs": [],
   "source": [
    "plot()"
   ]
  }
 ],
 "metadata": {
  "kernelspec": {
   "display_name": "SageMath 8.0",
   "language": "",
   "name": "sagemath"
  },
  "language_info": {
   "codemirror_mode": {
    "name": "ipython",
    "version": 2
   },
   "file_extension": ".py",
   "mimetype": "text/x-python",
   "name": "python",
   "nbconvert_exporter": "python",
   "pygments_lexer": "ipython2",
   "version": "2.7.13"
  }
 },
 "nbformat": 4,
 "nbformat_minor": 2
}
