{
 "cells": [
  {
   "cell_type": "markdown",
   "metadata": {
    "deletable": true,
    "editable": true
   },
   "source": [
    "# Pràctica 9: Xarxa de Difracció\n",
    "## C) Calibratge de la Xarxa"
   ]
  },
  {
   "cell_type": "markdown",
   "metadata": {
    "deletable": true,
    "editable": true
   },
   "source": [
    "Mesures de l'angle de diferents línies espectrals\n",
    "* `lambda_i`: longitud d'ona que mesurem (Angstrom)\n",
    "* `m_i`: ordre del màxim\n",
    "* `theta_i`: llista de les mesures dels angles (grau sexagesimal)\n",
    "* `epsilon_i`: angle d'incidència\n",
    "* `a_i`: a que calcularem"
   ]
  },
  {
   "cell_type": "code",
   "execution_count": 1,
   "metadata": {
    "collapsed": true,
    "deletable": true,
    "editable": true
   },
   "outputs": [],
   "source": [
    "theta_0 = 300.56"
   ]
  },
  {
   "cell_type": "markdown",
   "metadata": {
    "deletable": true,
    "editable": true
   },
   "source": [
    "Línia: Primer màxim del lila dèbil"
   ]
  },
  {
   "cell_type": "code",
   "execution_count": 59,
   "metadata": {
    "collapsed": true,
    "deletable": true,
    "editable": true
   },
   "outputs": [],
   "source": [
    "lambda_1   = [4046.6, 4046.6, 4078.2, 4078.2 , 4358.3, 4358.3, 4916 , 5460.7 , 5769.6, 5790.7]\n",
    "m_1        = [1     , 2     , 1     , 2      , 1     , 2     , 1    , 1      , 1     , 1]\n",
    "epsilon_1  = [0     , 0     , 0     , 0      , 0     , 0     , 0    , 0      , 0     , 0]\n",
    "theta_1    = [281   , 258.43, 280.75, 258.016, 279.4 , 254.46, 276.5, 273.633, 271.95, 271.875"
   ]
  },
  {
   "cell_type": "code",
   "execution_count": 65,
   "metadata": {
    "collapsed": false,
    "deletable": true,
    "editable": true
   },
   "outputs": [
    {
     "data": {
      "text/html": [
       "<html><script type=\"math/tex; mode=display\">\\newcommand{\\Bold}[1]{\\mathbf{#1}}644.332804349404</script></html>"
      ],
      "text/plain": [
       "644.332804349404"
      ]
     },
     "metadata": {},
     "output_type": "display_data"
    }
   ],
   "source": [
    "# Calculem la mitjana dels angles\n",
    "theta_1_corr = [(theta - theta_0)*pi/180 for theta in theta_1]\n",
    "a = [(m + l/10)/(sin(theta) - sin(10*pi/180)) for m, l, theta in zip(m_1, lambda_1, theta_1_corr)]\n",
    "a_1 = abs(sum(a)/len(a))\n",
    "show(N(a_1))"
   ]
  },
  {
   "cell_type": "markdown",
   "metadata": {
    "deletable": true,
    "editable": true
   },
   "source": [
    "## D) Constant de Rydberg"
   ]
  },
  {
   "cell_type": "markdown",
   "metadata": {
    "deletable": true,
    "editable": true
   },
   "source": [
    "En principi hem de tenir un valor de $a$ que surt de la part anterior. Mesurem la longitud d'ona de cada línia fent-lo servir\n",
    "* `lambda_2`: longituds d'ona (nm)\n",
    "* `theta_2`: angle mesurat\n",
    "* `epsilon_2`: angle incident\n",
    "* `m_2`: ordre del màxim"
   ]
  },
  {
   "cell_type": "code",
   "execution_count": 38,
   "metadata": {
    "collapsed": true,
    "deletable": true,
    "editable": true
   },
   "outputs": [],
   "source": [
    "lambda_2   = [   434,     486,     656,   434,     486]\n",
    "n_2        = [     5,       4,       3,     5,       4]\n",
    "m_2        = [     1,       1,       1,     2,       2]\n",
    "epsilon_2  = [     0,       0,       0,     0,       0]\n",
    "theta_2    = [279.43, 276.725, 267.517, 254.6, 246.825]"
   ]
  },
  {
   "cell_type": "code",
   "execution_count": 67,
   "metadata": {
    "collapsed": false,
    "deletable": true,
    "editable": true
   },
   "outputs": [
    {
     "data": {
      "text/html": [
       "<html><script type=\"math/tex; mode=display\">\\newcommand{\\Bold}[1]{\\mathbf{#1}}\\left[232.272473398453, 260.377552538499, 351.334250782966, 231.590820159052, 259.759474997025\\right]</script></html>"
      ],
      "text/plain": [
       "[232.272473398453,\n",
       " 260.377552538499,\n",
       " 351.334250782966,\n",
       " 231.590820159052,\n",
       " 259.759474997025]"
      ]
     },
     "metadata": {},
     "output_type": "display_data"
    }
   ],
   "source": [
    "lambda_2_exp = [N(a_1*(abs(sin((theta - theta_0)*pi/180) - sin(eps*pi/180)))/m) for theta,eps,m in zip(theta_2, epsilon_2, m_2)]\n",
    "len(lambda_2_exp)\n",
    "show(lambda_2_exp)"
   ]
  },
  {
   "cell_type": "code",
   "execution_count": 64,
   "metadata": {
    "collapsed": false,
    "deletable": true,
    "editable": true
   },
   "outputs": [
    {
     "data": {
      "text/plain": [
       "0.0145570794493574"
      ]
     },
     "execution_count": 64,
     "metadata": {},
     "output_type": "execute_result"
    }
   ],
   "source": [
    "R_exp = [4*k**2/(l*(k**2 - 4)) for k,l in zip(n_2, lambda_2_exp) ]\n",
    "N(sum(R_exp)/len(R_exp))"
   ]
  },
  {
   "cell_type": "code",
   "execution_count": 58,
   "metadata": {
    "collapsed": false,
    "deletable": true,
    "editable": true
   },
   "outputs": [
    {
     "data": {
      "text/plain": [
       "1.09735490262842e7"
      ]
     },
     "execution_count": 58,
     "metadata": {},
     "output_type": "execute_result"
    }
   ],
   "source": [
    "R = [4*k**2/(l*(k**2 - 4)) for k,l in zip(n_2, lambda_2) ]\n",
    "N(sum(R)/len(R))*10**9"
   ]
  },
  {
   "cell_type": "code",
   "execution_count": null,
   "metadata": {
    "collapsed": true,
    "deletable": true,
    "editable": true
   },
   "outputs": [],
   "source": []
  }
 ],
 "metadata": {
  "kernelspec": {
   "display_name": "SageMath 8.1",
   "language": "",
   "name": "sagemath"
  },
  "language_info": {
   "codemirror_mode": {
    "name": "ipython",
    "version": 2
   },
   "file_extension": ".py",
   "mimetype": "text/x-python",
   "name": "python",
   "nbconvert_exporter": "python",
   "pygments_lexer": "ipython2",
   "version": "2.7.14"
  }
 },
 "nbformat": 4,
 "nbformat_minor": 2
}
