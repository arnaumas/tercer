{
 "cells": [
  {
   "cell_type": "code",
   "execution_count": 10,
   "metadata": {},
   "outputs": [],
   "source": [
    "import numpy as np\n",
    "import matplotlib as mpl\n",
    "import matplotlib.pyplot as plt\n",
    "from matplotlib import rc\n",
    "from scipy import optimize, stats\n",
    "rc('pgf', rcfonts = False, preamble = r\"\\usepackage{siunitx}\")"
   ]
  },
  {
   "cell_type": "markdown",
   "metadata": {},
   "source": [
    "# Pràctica 9: Xarxa de Difracció\n",
    "## C) Calibratge de la Xarxa"
   ]
  },
  {
   "cell_type": "markdown",
   "metadata": {},
   "source": [
    "Mesures de l'angle de diferents línies espectrals\n",
    "* `lambda_i`: longitud d'ona que mesurem (Angstrom)\n",
    "* `m_i`: ordre del màxim\n",
    "* `theta_i`: llista de les mesures dels angles (grau sexagesimal)\n",
    "* `epsilon_i`: angle d'incidència\n",
    "* `a_i`: a que calcularem"
   ]
  },
  {
   "cell_type": "code",
   "execution_count": 3,
   "metadata": {},
   "outputs": [],
   "source": [
    "theta_0 = 300.56"
   ]
  },
  {
   "cell_type": "markdown",
   "metadata": {},
   "source": [
    "Línia: Primer màxim del lila dèbil"
   ]
  },
  {
   "cell_type": "code",
   "execution_count": 4,
   "metadata": {},
   "outputs": [],
   "source": [
    "lambda_1   = [4046.6, 4046.6, 4078.2, 4078.2 , 4358.3, 4358.3, 4916 , 5460.7 , 5769.6, 5790.7]\n",
    "m_1        = [1     , 2     , 1     , 2      , 1     , 2     , 1    , 1      , 1     , 1]\n",
    "epsilon_1  = [0     , 0     , 0     , 0      , 0     , 0     , 0    , 0      , 0     , 0]\n",
    "theta_1    = [281   , 258.43, 280.75, 258.016, 279.4 , 254.46, 276.5, 273.633, 271.95, 271.875]"
   ]
  },
  {
   "cell_type": "markdown",
   "metadata": {},
   "source": [
    "### Calculem l'angle d'incidència\n",
    "Fem una regressió entre el sinus de l'angle del primer màxim i la longitud d'ona:\n",
    "$$\\sin{\\theta} = \\frac{\\lambda}{a} + \\sin{\\epsilon}$$"
   ]
  },
  {
   "cell_type": "code",
   "execution_count": 55,
   "metadata": {},
   "outputs": [],
   "source": [
    "def sind(x):\n",
    "    return np.sin(x * np.pi/180)\n",
    "def cosd(x):\n",
    "    return np.cos(x * np.pi/180)"
   ]
  },
  {
   "cell_type": "code",
   "execution_count": 27,
   "metadata": {},
   "outputs": [
    {
     "data": {
      "text/plain": [
       "([0.33479380788440566,\n",
       "  0.3389021297580536,\n",
       "  0.3609735972082169,\n",
       "  0.4076930824488009,\n",
       "  0.4528549087461492,\n",
       "  0.4788450875859118,\n",
       "  0.47999384466014394],\n",
       " [4046.6, 4078.2, 4358.3, 4916, 5460.7, 5769.6, 5790.7])"
      ]
     },
     "execution_count": 27,
     "metadata": {},
     "output_type": "execute_result"
    }
   ],
   "source": [
    "# Seleccionem els angles que corresponen a m = 1\n",
    "sins = [sind(theta_0 - theta) for m,theta in zip(m_1, theta_1) if m == 1]\n",
    "longs = [l for m, l in zip(m_1, lambda_1) if m == 1]\n",
    "sins, longs"
   ]
  },
  {
   "cell_type": "code",
   "execution_count": 31,
   "metadata": {},
   "outputs": [
    {
     "data": {
      "text/plain": [
       "[(4046.6, [(1, 281), (2, 258.43)]),\n",
       " (4078.2, [(1, 280.75), (2, 258.016)]),\n",
       " (4358.3, [(1, 279.4), (2, 254.46)]),\n",
       " (4916, [(1, 276.5)]),\n",
       " (5460.7, [(1, 273.633)]),\n",
       " (5769.6, [(1, 271.95)]),\n",
       " (5790.7, [(1, 271.875)])]"
      ]
     },
     "execution_count": 31,
     "metadata": {},
     "output_type": "execute_result"
    }
   ],
   "source": [
    "dades = []\n",
    "for L in longs:\n",
    "    dades += [(L, [(m,q) for m,q,l in zip(m_1, theta_1, lambda_1) if l == L])]\n",
    "dades"
   ]
  },
  {
   "cell_type": "code",
   "execution_count": 35,
   "metadata": {},
   "outputs": [
    {
     "name": "stdout",
     "output_type": "stream",
     "text": [
      "4046.6 & 1 & 281.000 \\\\\n",
      " & 2 & 258.430 \\\\\n",
      "\\midrule\n",
      "4078.2 & 1 & 280.750 \\\\\n",
      " & 2 & 258.016 \\\\\n",
      "\\midrule\n",
      "4358.3 & 1 & 279.400 \\\\\n",
      " & 2 & 254.460 \\\\\n",
      "\\midrule\n",
      "4916 & 1 & 276.500 \\\\\n",
      "\\midrule\n",
      "5460.7 & 1 & 273.633 \\\\\n",
      "\\midrule\n",
      "5769.6 & 1 & 271.950 \\\\\n",
      "\\midrule\n",
      "5790.7 & 1 & 271.875 \\\\\n",
      "\\midrule\n"
     ]
    }
   ],
   "source": [
    "for dada in dades:\n",
    "    res = r\"{0[0]}\".format(dada)\n",
    "    for par in dada[1]:\n",
    "        res += r\" & {0[0]} & {0[1]:0.3f} \\\\\".format(par) + \"\\n\"\n",
    "    res += \"\\\\midrule\"\n",
    "    print(res)"
   ]
  },
  {
   "cell_type": "code",
   "execution_count": 39,
   "metadata": {},
   "outputs": [
    {
     "data": {
      "text/plain": [
       "(8.306418127717224e-05, -0.0007172810981020405, 0.9999419092056872)"
      ]
     },
     "execution_count": 39,
     "metadata": {},
     "output_type": "execute_result"
    }
   ],
   "source": [
    "# fem una regressio per trobar l'angle d'incidència\n",
    "def model(x, a, b):\n",
    "    return a*x + b\n",
    "A, sin, r, p, e = stats.linregress(longs, sins)\n",
    "A, sin, r**2"
   ]
  },
  {
   "cell_type": "code",
   "execution_count": 26,
   "metadata": {},
   "outputs": [
    {
     "data": {
      "text/plain": [
       "(array([ 8.30641813e-05, -7.17281089e-04]),\n",
       " array([[ 8.01659818e-14, -3.94188078e-10],\n",
       "        [-3.94188078e-10,  1.97904254e-06]]))"
      ]
     },
     "execution_count": 26,
     "metadata": {},
     "output_type": "execute_result"
    }
   ],
   "source": [
    "params, params_err = optimize.curve_fit(model, longs, sins)\n",
    "params, params_err"
   ]
  },
  {
   "cell_type": "code",
   "execution_count": 37,
   "metadata": {},
   "outputs": [
    {
     "data": {
      "text/plain": [
       "(2.831359776514825e-07, 0.0014067844668243638)"
      ]
     },
     "execution_count": 37,
     "metadata": {},
     "output_type": "execute_result"
    }
   ],
   "source": [
    "np.sqrt(params_err[0][0]), np.sqrt(params_err[1][1])"
   ]
  },
  {
   "cell_type": "code",
   "execution_count": 54,
   "metadata": {},
   "outputs": [],
   "source": [
    "ua = (1/A)**2 * np.sqrt(params_err[0][0])"
   ]
  },
  {
   "cell_type": "code",
   "execution_count": 63,
   "metadata": {},
   "outputs": [
    {
     "data": {
      "text/plain": [
       "12038.883482919739"
      ]
     },
     "execution_count": 63,
     "metadata": {},
     "output_type": "execute_result"
    }
   ],
   "source": [
    "a = 1/A\n",
    "a"
   ]
  },
  {
   "cell_type": "code",
   "execution_count": 7,
   "metadata": {},
   "outputs": [
    {
     "ename": "NameError",
     "evalue": "name 'sin' is not defined",
     "output_type": "error",
     "traceback": [
      "\u001b[0;31m---------------------------------------------------------------------------\u001b[0m",
      "\u001b[0;31mNameError\u001b[0m                                 Traceback (most recent call last)",
      "\u001b[0;32m<ipython-input-7-98cb7f764009>\u001b[0m in \u001b[0;36m<module>\u001b[0;34m()\u001b[0m\n\u001b[1;32m      1\u001b[0m \u001b[0;31m# Calculem la mitjana dels angles\u001b[0m\u001b[0;34m\u001b[0m\u001b[0;34m\u001b[0m\u001b[0m\n\u001b[1;32m      2\u001b[0m \u001b[0mtheta_1_corr\u001b[0m \u001b[0;34m=\u001b[0m \u001b[0;34m[\u001b[0m\u001b[0;34m(\u001b[0m\u001b[0mtheta\u001b[0m \u001b[0;34m-\u001b[0m \u001b[0mtheta_0\u001b[0m\u001b[0;34m)\u001b[0m\u001b[0;34m*\u001b[0m\u001b[0mpi\u001b[0m\u001b[0;34m/\u001b[0m\u001b[0;36m180\u001b[0m \u001b[0;32mfor\u001b[0m \u001b[0mtheta\u001b[0m \u001b[0;32min\u001b[0m \u001b[0mtheta_1\u001b[0m\u001b[0;34m]\u001b[0m\u001b[0;34m\u001b[0m\u001b[0m\n\u001b[0;32m----> 3\u001b[0;31m \u001b[0ma\u001b[0m \u001b[0;34m=\u001b[0m \u001b[0;34m[\u001b[0m\u001b[0;34m(\u001b[0m\u001b[0mm\u001b[0m \u001b[0;34m+\u001b[0m \u001b[0ml\u001b[0m\u001b[0;34m/\u001b[0m\u001b[0;36m10\u001b[0m\u001b[0;34m)\u001b[0m\u001b[0;34m/\u001b[0m\u001b[0;34m(\u001b[0m\u001b[0msin\u001b[0m\u001b[0;34m(\u001b[0m\u001b[0mtheta\u001b[0m\u001b[0;34m)\u001b[0m \u001b[0;34m-\u001b[0m \u001b[0msin\u001b[0m\u001b[0;34m(\u001b[0m\u001b[0;36m10\u001b[0m\u001b[0;34m*\u001b[0m\u001b[0mpi\u001b[0m\u001b[0;34m/\u001b[0m\u001b[0;36m180\u001b[0m\u001b[0;34m)\u001b[0m\u001b[0;34m)\u001b[0m \u001b[0;32mfor\u001b[0m \u001b[0mm\u001b[0m\u001b[0;34m,\u001b[0m \u001b[0ml\u001b[0m\u001b[0;34m,\u001b[0m \u001b[0mtheta\u001b[0m \u001b[0;32min\u001b[0m \u001b[0mzip\u001b[0m\u001b[0;34m(\u001b[0m\u001b[0mm_1\u001b[0m\u001b[0;34m,\u001b[0m \u001b[0mlambda_1\u001b[0m\u001b[0;34m,\u001b[0m \u001b[0mtheta_1_corr\u001b[0m\u001b[0;34m)\u001b[0m\u001b[0;34m]\u001b[0m\u001b[0;34m\u001b[0m\u001b[0m\n\u001b[0m\u001b[1;32m      4\u001b[0m \u001b[0ma_1\u001b[0m \u001b[0;34m=\u001b[0m \u001b[0mabs\u001b[0m\u001b[0;34m(\u001b[0m\u001b[0msum\u001b[0m\u001b[0;34m(\u001b[0m\u001b[0ma\u001b[0m\u001b[0;34m)\u001b[0m\u001b[0;34m/\u001b[0m\u001b[0mlen\u001b[0m\u001b[0;34m(\u001b[0m\u001b[0ma\u001b[0m\u001b[0;34m)\u001b[0m\u001b[0;34m)\u001b[0m\u001b[0;34m\u001b[0m\u001b[0m\n\u001b[1;32m      5\u001b[0m \u001b[0mshow\u001b[0m\u001b[0;34m(\u001b[0m\u001b[0mN\u001b[0m\u001b[0;34m(\u001b[0m\u001b[0ma_1\u001b[0m\u001b[0;34m)\u001b[0m\u001b[0;34m)\u001b[0m\u001b[0;34m\u001b[0m\u001b[0m\n",
      "\u001b[0;32m<ipython-input-7-98cb7f764009>\u001b[0m in \u001b[0;36m<listcomp>\u001b[0;34m(.0)\u001b[0m\n\u001b[1;32m      1\u001b[0m \u001b[0;31m# Calculem la mitjana dels angles\u001b[0m\u001b[0;34m\u001b[0m\u001b[0;34m\u001b[0m\u001b[0m\n\u001b[1;32m      2\u001b[0m \u001b[0mtheta_1_corr\u001b[0m \u001b[0;34m=\u001b[0m \u001b[0;34m[\u001b[0m\u001b[0;34m(\u001b[0m\u001b[0mtheta\u001b[0m \u001b[0;34m-\u001b[0m \u001b[0mtheta_0\u001b[0m\u001b[0;34m)\u001b[0m\u001b[0;34m*\u001b[0m\u001b[0mpi\u001b[0m\u001b[0;34m/\u001b[0m\u001b[0;36m180\u001b[0m \u001b[0;32mfor\u001b[0m \u001b[0mtheta\u001b[0m \u001b[0;32min\u001b[0m \u001b[0mtheta_1\u001b[0m\u001b[0;34m]\u001b[0m\u001b[0;34m\u001b[0m\u001b[0m\n\u001b[0;32m----> 3\u001b[0;31m \u001b[0ma\u001b[0m \u001b[0;34m=\u001b[0m \u001b[0;34m[\u001b[0m\u001b[0;34m(\u001b[0m\u001b[0mm\u001b[0m \u001b[0;34m+\u001b[0m \u001b[0ml\u001b[0m\u001b[0;34m/\u001b[0m\u001b[0;36m10\u001b[0m\u001b[0;34m)\u001b[0m\u001b[0;34m/\u001b[0m\u001b[0;34m(\u001b[0m\u001b[0msin\u001b[0m\u001b[0;34m(\u001b[0m\u001b[0mtheta\u001b[0m\u001b[0;34m)\u001b[0m \u001b[0;34m-\u001b[0m \u001b[0msin\u001b[0m\u001b[0;34m(\u001b[0m\u001b[0;36m10\u001b[0m\u001b[0;34m*\u001b[0m\u001b[0mpi\u001b[0m\u001b[0;34m/\u001b[0m\u001b[0;36m180\u001b[0m\u001b[0;34m)\u001b[0m\u001b[0;34m)\u001b[0m \u001b[0;32mfor\u001b[0m \u001b[0mm\u001b[0m\u001b[0;34m,\u001b[0m \u001b[0ml\u001b[0m\u001b[0;34m,\u001b[0m \u001b[0mtheta\u001b[0m \u001b[0;32min\u001b[0m \u001b[0mzip\u001b[0m\u001b[0;34m(\u001b[0m\u001b[0mm_1\u001b[0m\u001b[0;34m,\u001b[0m \u001b[0mlambda_1\u001b[0m\u001b[0;34m,\u001b[0m \u001b[0mtheta_1_corr\u001b[0m\u001b[0;34m)\u001b[0m\u001b[0;34m]\u001b[0m\u001b[0;34m\u001b[0m\u001b[0m\n\u001b[0m\u001b[1;32m      4\u001b[0m \u001b[0ma_1\u001b[0m \u001b[0;34m=\u001b[0m \u001b[0mabs\u001b[0m\u001b[0;34m(\u001b[0m\u001b[0msum\u001b[0m\u001b[0;34m(\u001b[0m\u001b[0ma\u001b[0m\u001b[0;34m)\u001b[0m\u001b[0;34m/\u001b[0m\u001b[0mlen\u001b[0m\u001b[0;34m(\u001b[0m\u001b[0ma\u001b[0m\u001b[0;34m)\u001b[0m\u001b[0;34m)\u001b[0m\u001b[0;34m\u001b[0m\u001b[0m\n\u001b[1;32m      5\u001b[0m \u001b[0mshow\u001b[0m\u001b[0;34m(\u001b[0m\u001b[0mN\u001b[0m\u001b[0;34m(\u001b[0m\u001b[0ma_1\u001b[0m\u001b[0;34m)\u001b[0m\u001b[0;34m)\u001b[0m\u001b[0;34m\u001b[0m\u001b[0m\n",
      "\u001b[0;31mNameError\u001b[0m: name 'sin' is not defined"
     ]
    }
   ],
   "source": [
    "# Calculem la mitjana dels angles\n",
    "\n",
    "a = [(m + l/10)/(sin(theta) - sin(10*pi/180)) for m, l, theta in zip(m_1, lambda_1, theta_1_corr)]\n",
    "a_1 = abs(sum(a)/len(a))\n",
    "show(N(a_1))"
   ]
  },
  {
   "cell_type": "markdown",
   "metadata": {},
   "source": [
    "## D) Constant de Rydberg"
   ]
  },
  {
   "cell_type": "markdown",
   "metadata": {},
   "source": [
    "En principi hem de tenir un valor de $a$ que surt de la part anterior. Mesurem la longitud d'ona de cada línia fent-lo servir\n",
    "* `lambda_2`: longituds d'ona (nm)\n",
    "* `theta_2`: angle mesurat\n",
    "* `epsilon_2`: angle incident\n",
    "* `m_2`: ordre del màxim"
   ]
  },
  {
   "cell_type": "code",
   "execution_count": 43,
   "metadata": {},
   "outputs": [],
   "source": [
    "lambda_2   = [   434,     486,     656,   434,     486]\n",
    "n_2        = [     5,       4,       3,     5,       4]\n",
    "m_2        = [     1,       1,       1,     2,       2]\n",
    "epsilon_2  = [     0,       0,       0,     0,       0]\n",
    "theta_2    = [279.43, 276.725, 267.517, 254.6, 246.825]"
   ]
  },
  {
   "cell_type": "code",
   "execution_count": 64,
   "metadata": {},
   "outputs": [
    {
     "data": {
      "text/plain": [
       "[433.9839947086082,\n",
       " 486.49626333148194,\n",
       " 656.4421491787648,\n",
       " 432.7103758784772,\n",
       " 485.3414310064801]"
      ]
     },
     "execution_count": 64,
     "metadata": {},
     "output_type": "execute_result"
    }
   ],
   "source": [
    "lambda_2_exp = [0.1* (a/m)*sind(theta_0 - q) for q,m in zip(theta_2, m_2)]\n",
    "len(lambda_2_exp)\n",
    "lambda_2_exp"
   ]
  },
  {
   "cell_type": "code",
   "execution_count": 65,
   "metadata": {},
   "outputs": [
    {
     "data": {
      "text/plain": [
       "[12.790502793867589,\n",
       " 12.568671477673062,\n",
       " 11.634684992532947,\n",
       " 4.958639007879052,\n",
       " 4.354858380846727]"
      ]
     },
     "execution_count": 65,
     "metadata": {},
     "output_type": "execute_result"
    }
   ],
   "source": [
    "lambda_2_err = [0.1*np.sqrt(((ua/m)* sind(theta_0 - q))**2 + (2*0.008*0.008)*((a/m)*cosd(theta_0 - q))**2) for q,m in zip(theta_2, m_2)]\n",
    "lambda_2_err"
   ]
  },
  {
   "cell_type": "code",
   "execution_count": 62,
   "metadata": {},
   "outputs": [
    {
     "data": {
      "text/plain": [
       "[(218.8315641222828, 16140.864607871175),\n",
       " (274.9929476209003, 15522.157323746334),\n",
       " (500.67448038245465, 13035.915007164684),\n",
       " (217.54903278483886, 2241.2610482611353),\n",
       " (273.6889547710801, 1622.7901969520174)]"
      ]
     },
     "execution_count": 62,
     "metadata": {},
     "output_type": "execute_result"
    }
   ],
   "source": []
  },
  {
   "cell_type": "code",
   "execution_count": 86,
   "metadata": {},
   "outputs": [
    {
     "data": {
      "text/plain": [
       "[10.972535439013294,\n",
       " 10.962742646389827,\n",
       " 10.968217091189965,\n",
       " 11.004831470096526,\n",
       " 10.988827642992062]"
      ]
     },
     "execution_count": 86,
     "metadata": {},
     "output_type": "execute_result"
    }
   ],
   "source": [
    "R_exp = [4*k**2/(l*(k**2 - 4)) * 10**3 for k,l in zip(n_2, lambda_2_exp)]\n",
    "R_exp"
   ]
  },
  {
   "cell_type": "code",
   "execution_count": 71,
   "metadata": {},
   "outputs": [
    {
     "data": {
      "text/plain": [
       "[0.010972130787798991,\n",
       " 0.010973936899862825,\n",
       " 0.01097560975609756,\n",
       " 0.010972130787798991,\n",
       " 0.010973936899862825]"
      ]
     },
     "execution_count": 71,
     "metadata": {},
     "output_type": "execute_result"
    }
   ],
   "source": [
    "R = [4*k**2/(l*(k**2 - 4)) for k,l in zip(n_2, lambda_2) ]\n",
    "R"
   ]
  },
  {
   "cell_type": "code",
   "execution_count": 78,
   "metadata": {},
   "outputs": [
    {
     "data": {
      "text/plain": [
       "[0.323385762838426,\n",
       " 0.28322336922630487,\n",
       " 0.19439908138951564,\n",
       " 0.1261097252220289,\n",
       " 0.09860025355248361]"
      ]
     },
     "execution_count": 78,
     "metadata": {},
     "output_type": "execute_result"
    }
   ],
   "source": [
    "R_err = [4*k**2/((k**2 - 4)*l**2) * u * 10**3 for k,l,u in zip(n_2, lambda_2_exp,lambda_2_err)]\n",
    "R_err"
   ]
  },
  {
   "cell_type": "code",
   "execution_count": 46,
   "metadata": {},
   "outputs": [
    {
     "data": {
      "text/plain": [
       "[434, 486, 656]"
      ]
     },
     "execution_count": 46,
     "metadata": {},
     "output_type": "execute_result"
    }
   ],
   "source": [
    "lambda_2[0:3]"
   ]
  },
  {
   "cell_type": "code",
   "execution_count": 48,
   "metadata": {},
   "outputs": [
    {
     "data": {
      "text/plain": [
       "[(434, [(1, 5, 279.43), (2, 5, 254.6)]),\n",
       " (486, [(1, 4, 276.725), (2, 4, 246.825)]),\n",
       " (656, [(1, 3, 267.517)])]"
      ]
     },
     "execution_count": 48,
     "metadata": {},
     "output_type": "execute_result"
    }
   ],
   "source": [
    "dades = []\n",
    "for L in lambda_2[0:3]:\n",
    "    dades += [(L, [(m,n, q) for n,m,q,l in zip(n_2, m_2, theta_2, lambda_2) if l == L])]\n",
    "dades"
   ]
  },
  {
   "cell_type": "code",
   "execution_count": 80,
   "metadata": {},
   "outputs": [
    {
     "name": "stdout",
     "output_type": "stream",
     "text": [
      "434 & $5 \\to 2$ & 1 & 279.430 \\\\\n",
      " & $5 \\to 2$ & 2 & 254.600 \\\\\n",
      "\\midrule\n",
      "486 & $4 \\to 2$ & 1 & 276.725 \\\\\n",
      " & $4 \\to 2$ & 2 & 246.825 \\\\\n",
      "\\midrule\n",
      "656 & $3 \\to 2$ & 1 & 267.517 \\\\\n",
      "\\midrule\n"
     ]
    }
   ],
   "source": [
    "for dada in dades:\n",
    "    res = r\"{0[0]}\".format(dada)\n",
    "    for par in dada[1]:\n",
    "        res += r\" & ${0[1]} \\to 2$ & {0[0]} & {0[2]:0.3f} \\\\\".format(par) + \"\\n\"\n",
    "    res += \"\\\\midrule\"\n",
    "    print(res)"
   ]
  },
  {
   "cell_type": "code",
   "execution_count": 82,
   "metadata": {},
   "outputs": [],
   "source": [
    "Ry = 10.973731"
   ]
  },
  {
   "cell_type": "code",
   "execution_count": 91,
   "metadata": {},
   "outputs": [
    {
     "name": "stdout",
     "output_type": "stream",
     "text": [
      "434 & 1 & 434 \\pm 13 & 10.97 \\pm 0.32 & 0.01\\% \\\\\n",
      "486 & 1 & 486 \\pm 13 & 10.96 \\pm 0.28 & 0.10\\% \\\\\n",
      "656 & 1 & 656 \\pm 12 & 10.97 \\pm 0.19 & 0.05\\% \\\\\n",
      "434 & 2 & 433 \\pm  5 & 11.00 \\pm 0.13 & 0.28\\% \\\\\n",
      "486 & 2 & 485 \\pm  4 & 10.99 \\pm 0.10 & 0.14\\% \\\\\n"
     ]
    }
   ],
   "source": [
    "for dada in zip(lambda_2, lambda_2_exp, lambda_2_err, R_exp, R_err, m_2):\n",
    "    print(r\"{0[0]} & {0[5]} & {0[1]:3.0f} \\pm {0[2]:2.0f} & {0[3]:.2f} \\pm {0[4]:.2f} & {1:.2f}\\% \\\\\".format(dada, 100*abs(dada[3] - Ry)/Ry))"
   ]
  },
  {
   "cell_type": "code",
   "execution_count": 92,
   "metadata": {},
   "outputs": [
    {
     "data": {
      "text/plain": [
       "0.2228050736064005"
      ]
     },
     "execution_count": 92,
     "metadata": {},
     "output_type": "execute_result"
    }
   ],
   "source": [
    "np.sqrt(np.mean([u**2 for u in R_err]))"
   ]
  },
  {
   "cell_type": "code",
   "execution_count": 94,
   "metadata": {},
   "outputs": [
    {
     "data": {
      "text/plain": [
       "10.979430857936334"
      ]
     },
     "execution_count": 94,
     "metadata": {},
     "output_type": "execute_result"
    }
   ],
   "source": [
    "np.mean(R_exp)"
   ]
  },
  {
   "cell_type": "code",
   "execution_count": 95,
   "metadata": {},
   "outputs": [
    {
     "data": {
      "image/png": "[encoded data removed]",
      "text/plain": [
       "<Figure size 360x252 with 1 Axes>"
      ]
     },
     "metadata": {
      "needs_background": "light"
     },
     "output_type": "display_data"
    }
   ],
   "source": [
    "q = np.arange(longs[0], longs[-1], 1)\n",
    "plt.figure(figsize = (5,3.5))\n",
    "plt.grid(True)\n",
    "plt.plot(longs, sins, marker = '+', ms = 7, mfc = 'lightblue', ls = '')\n",
    "plt.plot(q, model(q, params[0], params[1]), ls = '--', color = 'orchid', lw = 1)\n",
    "plt.ylabel(r\"\\( \\sin{\\theta} \\)\")\n",
    "plt.xlabel(r\"\\( \\lambda \\) (\\si{\\angstrom})\")\n",
    "\n",
    "plt.savefig('regr.pgf')"
   ]
  },
  {
   "cell_type": "code",
   "execution_count": null,
   "metadata": {},
   "outputs": [],
   "source": []
  }
 ],
 "metadata": {
  "kernelspec": {
   "display_name": "Python 3",
   "language": "python",
   "name": "python3"
  },
  "language_info": {
   "codemirror_mode": {
    "name": "ipython",
    "version": 3
   },
   "file_extension": ".py",
   "mimetype": "text/x-python",
   "name": "python",
   "nbconvert_exporter": "python",
   "pygments_lexer": "ipython3",
   "version": "3.7.0"
  }
 },
 "nbformat": 4,
 "nbformat_minor": 2
}
