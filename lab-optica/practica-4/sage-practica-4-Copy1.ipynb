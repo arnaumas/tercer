{
 "cells": [
  {
   "cell_type": "code",
   "execution_count": 11,
   "metadata": {},
   "outputs": [],
   "source": [
    "import numpy as np\n",
    "import matplotlib as mpl\n",
    "import matplotlib.pyplot as plt\n",
    "from matplotlib import rc\n",
    "from scipy import optimize\n",
    "rc('pgf', rcfonts = False, preamble = r\"\\usepackage{siunitx}\")"
   ]
  },
  {
   "cell_type": "markdown",
   "metadata": {},
   "source": [
    "# Pràctica 4: Espectres Òptics"
   ]
  },
  {
   "cell_type": "markdown",
   "metadata": {},
   "source": [
    "## (A) Posada a punt de l'aparell "
   ]
  },
  {
   "cell_type": "markdown",
   "metadata": {},
   "source": [
    "_corresponents observacions_"
   ]
  },
  {
   "cell_type": "markdown",
   "metadata": {},
   "source": [
    "## (B) Observació de l'espectre"
   ]
  },
  {
   "cell_type": "markdown",
   "metadata": {},
   "source": [
    "_corresponents observacions_"
   ]
  },
  {
   "cell_type": "markdown",
   "metadata": {},
   "source": [
    "## (C) Calibració de l'espectròmetre"
   ]
  },
  {
   "cell_type": "markdown",
   "metadata": {},
   "source": [
    "### Mesures i dades\n",
    "\n",
    "Mesures de la desviació mínima, $\\delta_m$ per a cada longitud d'ona del mercuri\n",
    "\n",
    "* `longs_Hg[i]` és la longitud d'ona de cada ratlla en Å\n",
    "* `delta_Hg[i]` és la mitjana de les corresponents mesures de $\\delta_m$, en graus"
   ]
  },
  {
   "cell_type": "code",
   "execution_count": 35,
   "metadata": {},
   "outputs": [],
   "source": [
    "dadesHg = [\n",
    "    [4046.6, [35.95, 35.925]],\n",
    "    [4078.2, [36.15, 36.21666]],\n",
    "    [4358.3, [38.3, 38.3]],\n",
    "    [4916.0, [41.04167, 41.1]],\n",
    "    [5460.7, [42.783333, 42.75]],\n",
    "    [5769.6, [43.45, 43.5]],\n",
    "    [5789.7, [43.55, 43.5416666]]\n",
    "]\n",
    "delta_ref_raw = [110.0333, 110.05, 110.05]"
   ]
  },
  {
   "cell_type": "code",
   "execution_count": 86,
   "metadata": {
    "scrolled": true
   },
   "outputs": [
    {
     "name": "stdout",
     "output_type": "stream",
     "text": [
      "4413.00 & 38.625 \\\\ \n",
      " {} & 38.658 \\\\\n",
      "\\midrule\n",
      "4678.20 & 40.092 \\\\ \n",
      " {} & 40.092 \\\\\n",
      "\\midrule\n",
      "4799.90 & 40.600 \\\\ \n",
      " {} & 40.625 \\\\\n",
      "\\midrule\n",
      "5085.80 & 41.683 \\\\ \n",
      " {} & 41.683 \\\\\n",
      "\\midrule\n",
      "5155.10 & 41.883 \\\\ \n",
      " {} & 41.908 \\\\\n",
      "\\midrule\n",
      "6438.50 & 44.600 \\\\ \n",
      " {} & 44.650 \\\\\n",
      "\\midrule\n"
     ]
    }
   ],
   "source": [
    "for dada in dadesCd:\n",
    "    print(\"{0[0]:.2f} & {0[1][0]:.3f} \\\\\\\\ \\n {{}} & {0[1][1]:.3f} \\\\\\\\\\n\\\\midrule\".format(dada))"
   ]
  },
  {
   "cell_type": "code",
   "execution_count": 26,
   "metadata": {},
   "outputs": [],
   "source": [
    "longs_Hg = [dada[0] for dada in dadesHg]"
   ]
  },
  {
   "cell_type": "code",
   "execution_count": 89,
   "metadata": {},
   "outputs": [
    {
     "data": {
      "text/plain": [
       "([74.10693333333334,\n",
       "  73.86110333333335,\n",
       "  71.74443333333335,\n",
       "  68.97359833333334,\n",
       "  67.27776683333335,\n",
       "  66.56943333333334,\n",
       "  66.49860003333335],\n",
       " [4046.6, 4078.2, 4358.3, 4916.0, 5460.7, 5769.6, 5789.7])"
      ]
     },
     "execution_count": 89,
     "metadata": {},
     "output_type": "execute_result"
    }
   ],
   "source": [
    "delta_Hg_raw = [dada[1] for dada in dadesHg]\n",
    "delta_ref = np.average(delta_ref_raw)\n",
    "delta_Hg = [delta_ref - np.average(deltes) for deltes in delta_Hg_raw]\n",
    "delta_Hg, longs_Hg"
   ]
  },
  {
   "cell_type": "code",
   "execution_count": 124,
   "metadata": {},
   "outputs": [
    {
     "data": {
      "text/plain": [
       "[0.01386542462386461,\n",
       " 0.03386574818308258,\n",
       " 0.006,\n",
       " 0.02977578252540043,\n",
       " 0.017713616859636048,\n",
       " 0.0257099202643635,\n",
       " 0.007304888013514746]"
      ]
     },
     "execution_count": 124,
     "metadata": {},
     "output_type": "execute_result"
    }
   ],
   "source": [
    "delta_Hg_err = [np.sqrt(np.var(dada[1], ddof = 1) / 2 + 0.006**2) for dada in dadesHg]\n",
    "delta_Hg_err"
   ]
  },
  {
   "cell_type": "markdown",
   "metadata": {},
   "source": [
    "### Ajust de les constants del prisma\n",
    "Fem l'ajust per a la fórmula de Hartmann\n",
    "\n",
    "$$\\lambda(\\delta) = \\lambda_0 + \\frac{C}{\\delta - \\delta_0}$$"
   ]
  },
  {
   "cell_type": "code",
   "execution_count": 5,
   "metadata": {},
   "outputs": [
    {
     "data": {
      "text/plain": [
       "array([ 2454.87389244, 23182.05727843,    59.56158845])"
      ]
     },
     "execution_count": 5,
     "metadata": {},
     "output_type": "execute_result"
    }
   ],
   "source": [
    "def hartmann(x, a, b, c):\n",
    "    return a + b/(x - c)\n",
    "\n",
    "params, params_err = optimize.curve_fit(hartmann, delta_Hg, longs_Hg, p0 = [1000, 30000, 60])\n",
    "params"
   ]
  },
  {
   "cell_type": "code",
   "execution_count": 6,
   "metadata": {},
   "outputs": [
    {
     "data": {
      "text/plain": [
       "(2454.873892444373, 39.55049149188062)"
      ]
     },
     "execution_count": 6,
     "metadata": {},
     "output_type": "execute_result"
    }
   ],
   "source": [
    "lambda_0 = (params[0], np.sqrt(params_err[0][0]))\n",
    "lambda_0"
   ]
  },
  {
   "cell_type": "code",
   "execution_count": 7,
   "metadata": {},
   "outputs": [
    {
     "data": {
      "text/plain": [
       "(23182.057278426386, 801.2266705023592)"
      ]
     },
     "execution_count": 7,
     "metadata": {},
     "output_type": "execute_result"
    }
   ],
   "source": [
    "C = (params[1], np.sqrt(params_err[1][1]))\n",
    "C"
   ]
  },
  {
   "cell_type": "code",
   "execution_count": 66,
   "metadata": {},
   "outputs": [
    {
     "data": {
      "text/plain": [
       "(59.561588454627476, 0.16199644709538463)"
      ]
     },
     "execution_count": 66,
     "metadata": {},
     "output_type": "execute_result"
    }
   ],
   "source": [
    "delta_0 = (params[2], np.sqrt(params_err[2][2]))\n",
    "delta_0"
   ]
  },
  {
   "cell_type": "code",
   "execution_count": 77,
   "metadata": {},
   "outputs": [
    {
     "data": {
      "text/plain": [
       "0.9999694842983892"
      ]
     },
     "execution_count": 77,
     "metadata": {},
     "output_type": "execute_result"
    }
   ],
   "source": [
    "# Calculem el coeficient de correlació\n",
    "SS_tot = sum([(l - np.mean(longs_Hg))**2 for l in longs_Hg])\n",
    "SS_res = sum([(l - hartmann(d, lambda_0[0], C[0], delta_0[0]))**2 for l,d in zip(longs_Hg, delta_Hg)])\n",
    "1 - SS_res/SS_tot"
   ]
  },
  {
   "cell_type": "code",
   "execution_count": 9,
   "metadata": {},
   "outputs": [],
   "source": [
    "t = np.arange(delta_Hg[-1], delta_Hg[0], 0.1)\n",
    "hart = hartmann(t, lambda_0[0], C[0], delta_0[0])"
   ]
  },
  {
   "cell_type": "code",
   "execution_count": 94,
   "metadata": {},
   "outputs": [
    {
     "data": {
      "image/png": "[encoded data removed]",
      "text/plain": [
       "<Figure size 360x252 with 1 Axes>"
      ]
     },
     "metadata": {
      "needs_background": "light"
     },
     "output_type": "display_data"
    }
   ],
   "source": [
    "plt.figure(figsize = (5,3.5))\n",
    "plt.grid(True)\n",
    "plt.plot(t, hart, ls = '-.', color = 'orchid', lw = 1)\n",
    "plt.plot(delta_Hg, longs_Hg, marker = '+', ms = 7, mfc = 'lightblue', ls = '')\n",
    "plt.errorbar(delta_Hg, longs_Hg, xerr = delta_Hg_err, ecolor = 'lightblue', fmt = 'none')\n",
    "plt.ylabel(r\"\\( \\lambda \\, (\\si{\\angstrom}) \\)\")\n",
    "plt.xlabel(r\"\\( \\delta \\, (\\si{\\degree}) \\)\")\n",
    "\n",
    "\n",
    "plt.savefig('hartmann.pgf')"
   ]
  },
  {
   "cell_type": "markdown",
   "metadata": {},
   "source": [
    "## (D) Determinació de longituds d'ona\n",
    "\n",
    "Ara mesurem els angles de desviació mínima i calculem les longituds d'ona de les corresponents franges de l'espectre de cadmi fent servir la fórmula de Hartmann\n",
    "\n",
    "* `longsCd[i]` és la longitud d'ona de cada ratlla en Å\n",
    "* `deltaCd[i]` és la mitjana de les corresponents mesures de $\\delta_m$, en graus "
   ]
  },
  {
   "cell_type": "code",
   "execution_count": 29,
   "metadata": {},
   "outputs": [],
   "source": [
    "dadesCd = [\n",
    "    [4413, [38.625, 38.6583333]],\n",
    "    [4678.2, [40.09166666, 40.091666666]],\n",
    "    [4799.9, [40.6, 40.625]],\n",
    "    [5085.8, [41.683333, 41.683333]],\n",
    "    [5155.1, [41.88333, 41.9083333]],\n",
    "    [6438.5, [44.6, 44.65]]\n",
    "]"
   ]
  },
  {
   "cell_type": "code",
   "execution_count": 34,
   "metadata": {},
   "outputs": [
    {
     "data": {
      "text/plain": [
       "([4413, 4678.2, 4799.9, 5085.8, 5155.1, 6438.5],\n",
       " [71.40276668333334,\n",
       "  69.95276667033335,\n",
       "  69.43193333333335,\n",
       "  68.36110033333335,\n",
       "  68.14860168333334,\n",
       "  65.41943333333334])"
      ]
     },
     "execution_count": 34,
     "metadata": {},
     "output_type": "execute_result"
    }
   ],
   "source": [
    "longs_Cd = [dada[0] for dada in dadesCd]\n",
    "delta_Cd = [delta_ref - np.mean(dada[1]) for dada in dadesCd]\n",
    "longs_Cd, delta_Cd"
   ]
  },
  {
   "cell_type": "markdown",
   "metadata": {
    "collapsed": true
   },
   "source": [
    "Calculem les longituds d'ona amb Hartmann"
   ]
  },
  {
   "cell_type": "code",
   "execution_count": 122,
   "metadata": {},
   "outputs": [
    {
     "data": {
      "text/plain": [
       "([4412.623098703891,\n",
       "  4685.810249919947,\n",
       "  4803.531164637465,\n",
       "  5089.344712868529,\n",
       "  5154.538684031066,\n",
       "  6412.311782733443],\n",
       " [4413, 4678.2, 4799.9, 5085.8, 5155.1, 6438.5])"
      ]
     },
     "execution_count": 122,
     "metadata": {},
     "output_type": "execute_result"
    }
   ],
   "source": [
    "longs_Cd_exp = [hartmann(d, lambda_0[0], C[0], delta_0[0]) for d in delta_Cd]\n",
    "longs_Cd_err = [np.abs(exp - teo) for exp,teo in zip(longs_Cd_exp, longs_Cd)]\n",
    "longs_Cd_exp, longs_Cd"
   ]
  },
  {
   "cell_type": "code",
   "execution_count": 125,
   "metadata": {},
   "outputs": [
    {
     "data": {
      "text/plain": [
       "([34.73483736358115,\n",
       "  13.501078872395382,\n",
       "  32.6136334593857,\n",
       "  15.927497441292457,\n",
       "  37.49007015185836,\n",
       "  101.7919871621219],\n",
       " [0.37690129610928125,\n",
       "  7.610249919946909,\n",
       "  3.63116463746519,\n",
       "  3.544712868529132,\n",
       "  0.5613159689346503,\n",
       "  26.18821726655733])"
      ]
     },
     "execution_count": 125,
     "metadata": {},
     "output_type": "execute_result"
    }
   ],
   "source": [
    "def n(x):\n",
    "    mu = np.mean(delta_Hg)\n",
    "    ss = sum([(delta - mu)**2 for delta in delta_Hg])\n",
    "    return 1/(1 / len(longs_Hg) + (x - mu)**2 / ss)\n",
    "\n",
    "delta_Cd_err = [np.sqrt(np.var(dada[1], ddof = 1) / 2 + 0.006**2) for dada in dadesCd]\n",
    "var = SS_res / (len(longs_Hg) - 2)\n",
    "longs_Cd_unc = [np.sqrt(var/n(d) + (C[0]*u / (d - delta_0[0]))**2) for d,u in zip(delta_Cd, delta_Cd_err)]\n",
    "longs_Cd_unc, longs_Cd_err"
   ]
  },
  {
   "cell_type": "code",
   "execution_count": 133,
   "metadata": {},
   "outputs": [
    {
     "name": "stdout",
     "output_type": "stream",
     "text": [
      "441.3 & 441 \\pm 3 & 0.038 \\\\\n",
      "467.82 & 469 \\pm 1 & 0.76 \\\\\n",
      "479.98999999999995 & 480 \\pm 3 & 0.36 \\\\\n",
      "508.58000000000004 & 509 \\pm 2 & 0.35 \\\\\n",
      "515.51 & 515 \\pm 4 & 0.056 \\\\\n",
      "643.85 & 641 \\pm 1e+01 & 2.6 \\\\\n"
     ]
    }
   ],
   "source": [
    "for x in zip(longs_Cd, longs_Cd_exp, longs_Cd_unc, longs_Cd_err):\n",
    "    print(\"{0} & {1:.3g} \\\\pm {2:.1g} & {3:.2g} \\\\\\\\\".format(x[0]/10, x[1]/10, x[2]/10, x[3]/10))"
   ]
  },
  {
   "cell_type": "markdown",
   "metadata": {},
   "source": [
    "## (E) Corba de dispersió del vidre\n",
    "Fem servir la fórmula $$n(\\lambda) = \\frac{\\sin{\\left(\\frac{\\delta(\\lambda) + \\alpha}{2}\\right)}}{\\sin{\\left(\\frac{\\alpha}{2}\\right)}}$$\n",
    "amb $\\alpha = 60º$ per trobar els diversos índexs de dispersió del vidre"
   ]
  },
  {
   "cell_type": "code",
   "execution_count": 18,
   "metadata": {},
   "outputs": [],
   "source": [
    "# Definim funcions trigonomètriques per graus\n",
    "sind(x) = sin(180/pi * x)"
   ]
  },
  {
   "cell_type": "code",
   "execution_count": 20,
   "metadata": {
    "collapsed": true
   },
   "outputs": [],
   "source": [
    "index(x) = sin((x + 60)/2) / sin(60/2)\n",
    "ns = []\n",
    "\n",
    "# Calcular els corresponents índexos de refracció"
   ]
  },
  {
   "cell_type": "markdown",
   "metadata": {},
   "source": [
    "_s'ha de calcular el nombre d'Abbe del vidre_"
   ]
  },
  {
   "cell_type": "markdown",
   "metadata": {},
   "source": [
    "## (F) Observació de diferents espectres "
   ]
  },
  {
   "cell_type": "markdown",
   "metadata": {},
   "source": [
    "_corresponents observacions_"
   ]
  }
 ],
 "metadata": {
  "kernelspec": {
   "display_name": "Python 3",
   "language": "python",
   "name": "python3"
  },
  "language_info": {
   "codemirror_mode": {
    "name": "ipython",
    "version": 3
   },
   "file_extension": ".py",
   "mimetype": "text/x-python",
   "name": "python",
   "nbconvert_exporter": "python",
   "pygments_lexer": "ipython3",
   "version": "3.7.0"
  }
 },
 "nbformat": 4,
 "nbformat_minor": 2
}
