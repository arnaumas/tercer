{
 "cells": [
  {
   "cell_type": "code",
   "execution_count": 14,
   "metadata": {},
   "outputs": [],
   "source": [
    "import numpy as np\n",
    "import matplotlib as plt\n",
    "from scipy import optimize"
   ]
  },
  {
   "cell_type": "markdown",
   "metadata": {},
   "source": [
    "# Pràctica 4: Espectres Òptics"
   ]
  },
  {
   "cell_type": "markdown",
   "metadata": {},
   "source": [
    "## (A) Posada a punt de l'aparell "
   ]
  },
  {
   "cell_type": "markdown",
   "metadata": {},
   "source": [
    "_corresponents observacions_"
   ]
  },
  {
   "cell_type": "markdown",
   "metadata": {},
   "source": [
    "## (B) Observació de l'espectre"
   ]
  },
  {
   "cell_type": "markdown",
   "metadata": {},
   "source": [
    "_corresponents observacions_"
   ]
  },
  {
   "cell_type": "markdown",
   "metadata": {},
   "source": [
    "## (C) Calibració de l'espectròmetre"
   ]
  },
  {
   "cell_type": "markdown",
   "metadata": {},
   "source": [
    "### Mesures i dades\n",
    "\n",
    "Mesures de la desviació mínima, $\\delta_m$ per a cada longitud d'ona del mercuri\n",
    "\n",
    "* `longs_Hg[i]` és la longitud d'ona de cada ratlla en Å\n",
    "* `delta_Hg[i]` és la mitjana de les corresponents mesures de $\\delta_m$, en graus"
   ]
  },
  {
   "cell_type": "code",
   "execution_count": 10,
   "metadata": {},
   "outputs": [],
   "source": [
    "dades = [\n",
    "    [4046.6, [35.95, 35.925]],\n",
    "    [4078.2, [36.15, 36.21666]],\n",
    "    [4358.3, [38.3, 38.3]],\n",
    "    [4916.0, [41.04167, 41.1]],\n",
    "    [5460.7, [42.783333, 42.75]],\n",
    "    [5769.6, [43.45, 43.5]],\n",
    "    [5789.7, [43.55, 43.5416666]]\n",
    "]\n",
    "delta_ref_raw = [110.0333, 110.05, 110.05]"
   ]
  },
  {
   "cell_type": "code",
   "execution_count": 9,
   "metadata": {},
   "outputs": [],
   "source": [
    "longs_Hg = [dada[0] for dada in dades]"
   ]
  },
  {
   "cell_type": "code",
   "execution_count": 12,
   "metadata": {},
   "outputs": [],
   "source": [
    "delta_Hg_raw = [dada[1] for dada in dades]\n",
    "delta_Hg = [np.average(deltes) for deltes in delta_Hg_raw]\n",
    "delta_ref = np.average(delta_ref_raw)"
   ]
  },
  {
   "cell_type": "markdown",
   "metadata": {},
   "source": [
    "### Ajust de les constants del prisma\n",
    "Fem l'ajust per a la fórmula de Hartmann\n",
    "\n",
    "$$\\lambda(\\delta) = \\lambda_0 + \\frac{C}{\\delta - \\delta_0}$$"
   ]
  },
  {
   "cell_type": "code",
   "execution_count": 17,
   "metadata": {},
   "outputs": [
    {
     "data": {
      "text/plain": [
       "array([[ 1.56423976e+03,  3.15127362e+04, -6.30354489e+00],\n",
       "       [ 3.15127362e+04,  6.41963255e+05, -1.29380675e+02],\n",
       "       [-6.30354489e+00, -1.29380675e+02,  2.62428633e-02]])"
      ]
     },
     "execution_count": 17,
     "metadata": {},
     "output_type": "execute_result"
    }
   ],
   "source": [
    "def hartmann(x, a, b, c):\n",
    "    return a + b/(x - c)\n",
    "\n",
    "params, params_err = optimize.curve_fit(hartmann, delta_Hg, longs_Hg)\n",
    "params_err"
   ]
  },
  {
   "cell_type": "markdown",
   "metadata": {},
   "source": [
    "_faltarà fer l'ajust lineal per trobar R^2_"
   ]
  },
  {
   "cell_type": "markdown",
   "metadata": {},
   "source": [
    "## (D) Determinació de longituds d'ona\n",
    "\n",
    "Ara mesurem els angles de desviació mínima i calculem les longituds d'ona de les corresponents franges de l'espectre de cadmi fent servir la fórmula de Hartmann\n",
    "\n",
    "* `longsCd[i]` és la longitud d'ona de cada ratlla en Å\n",
    "* `deltaCd[i]` és la mitjana de les corresponents mesures de $\\delta_m$, en graus "
   ]
  },
  {
   "cell_type": "code",
   "execution_count": null,
   "metadata": {
    "collapsed": true
   },
   "outputs": [],
   "source": [
    "longsCd = []\n",
    "longsCd_teo = [4413, 4799.9, 4678.2, 5155.1, 5085.8, 6438.5]\n",
    "deltaCd = []"
   ]
  },
  {
   "cell_type": "markdown",
   "metadata": {},
   "source": [
    "* Mesura de la ratlla violeta ($\\lambda = 4413 Å$)"
   ]
  },
  {
   "cell_type": "code",
   "execution_count": 14,
   "metadata": {
    "collapsed": true
   },
   "outputs": [],
   "source": [
    "longsHg += []\n",
    "deltaCd.append(mean([38.625, 38.6583333]))"
   ]
  },
  {
   "cell_type": "markdown",
   "metadata": {},
   "source": [
    "* Mesura de la ratlla blava ($\\lambda = 4678.2 Å$)"
   ]
  },
  {
   "cell_type": "code",
   "execution_count": 14,
   "metadata": {
    "collapsed": true
   },
   "outputs": [],
   "source": [
    "longsHg += []\n",
    "deltaCd.append(mean([40.09166666, 40.091666666]))"
   ]
  },
  {
   "cell_type": "markdown",
   "metadata": {},
   "source": [
    "* Mesura de la ratlla blava ($\\lambda = 4799.9 Å$)"
   ]
  },
  {
   "cell_type": "code",
   "execution_count": 14,
   "metadata": {
    "collapsed": true
   },
   "outputs": [],
   "source": [
    "longsHg += []\n",
    "deltaCd.append(mean([40.6, 40.625]))"
   ]
  },
  {
   "cell_type": "markdown",
   "metadata": {},
   "source": [
    "* Mesura de la ratlla verda ($\\lambda = 5085.8 Å$)"
   ]
  },
  {
   "cell_type": "code",
   "execution_count": 14,
   "metadata": {
    "collapsed": true
   },
   "outputs": [],
   "source": [
    "longsHg += []\n",
    "deltaCd.append(mean([41.683333, 41.683333]))"
   ]
  },
  {
   "cell_type": "markdown",
   "metadata": {},
   "source": [
    "* Mesura de la ratlla verda ($\\lambda = 5155.1 Å$)"
   ]
  },
  {
   "cell_type": "code",
   "execution_count": 14,
   "metadata": {
    "collapsed": true
   },
   "outputs": [],
   "source": [
    "longsHg += []\n",
    "deltaCd.append(mean([41.88333, 41.9083333]))"
   ]
  },
  {
   "cell_type": "markdown",
   "metadata": {},
   "source": [
    "* Mesura de la ratlla vermella ($\\lambda = 6438.5 Å$)"
   ]
  },
  {
   "cell_type": "code",
   "execution_count": 14,
   "metadata": {
    "collapsed": true
   },
   "outputs": [],
   "source": [
    "longsHg += []\n",
    "deltaCd.append(mean([44.6, 44.65]))"
   ]
  },
  {
   "cell_type": "markdown",
   "metadata": {},
   "source": [
    "_i successives mesures_"
   ]
  },
  {
   "cell_type": "markdown",
   "metadata": {},
   "source": [
    "_s'han de calcular les longituds d'ona a partir de Hartmann i comparar-les amb les teòriques_"
   ]
  },
  {
   "cell_type": "markdown",
   "metadata": {},
   "source": [
    "Fem l'anàlisi de l'error, fent servir\n",
    "$$u(\\lambda) = \\frac{C}{(\\delta - \\delta_0)^2} u(\\delta)$$\n",
    "i la precisió en la mesura de l'angle, `u_delta`"
   ]
  },
  {
   "cell_type": "code",
   "execution_count": 15,
   "metadata": {
    "collapsed": true
   },
   "outputs": [],
   "source": [
    "u_delta = 0"
   ]
  },
  {
   "cell_type": "markdown",
   "metadata": {},
   "source": [
    "## (E) Corba de dispersió del vidre\n",
    "Fem servir la fórmula $$n(\\lambda) = \\frac{\\sin{\\left(\\frac{\\delta(\\lambda) + \\alpha}{2}\\right)}}{\\sin{\\left(\\frac{\\alpha}{2}\\right)}}$$\n",
    "amb $\\alpha = 60º$ per trobar els diversos índexs de dispersió del vidre"
   ]
  },
  {
   "cell_type": "code",
   "execution_count": 18,
   "metadata": {},
   "outputs": [],
   "source": [
    "# Definim funcions trigonomètriques per graus\n",
    "sind(x) = sin(180/pi * x)"
   ]
  },
  {
   "cell_type": "code",
   "execution_count": 20,
   "metadata": {
    "collapsed": true
   },
   "outputs": [],
   "source": [
    "index(x) = sin((x + 60)/2) / sin(60/2)\n",
    "ns = []\n",
    "\n",
    "# Calcular els corresponents índexos de refracció"
   ]
  },
  {
   "cell_type": "markdown",
   "metadata": {},
   "source": [
    "_s'ha de calcular el nombre d'Abbe del vidre_"
   ]
  },
  {
   "cell_type": "markdown",
   "metadata": {},
   "source": [
    "## (F) Observació de diferents espectres "
   ]
  },
  {
   "cell_type": "markdown",
   "metadata": {},
   "source": [
    "_corresponents observacions_"
   ]
  }
 ],
 "metadata": {
  "kernelspec": {
   "display_name": "Python 3",
   "language": "python",
   "name": "python3"
  },
  "language_info": {
   "codemirror_mode": {
    "name": "ipython",
    "version": 3
   },
   "file_extension": ".py",
   "mimetype": "text/x-python",
   "name": "python",
   "nbconvert_exporter": "python",
   "pygments_lexer": "ipython3",
   "version": "3.7.0"
  }
 },
 "nbformat": 4,
 "nbformat_minor": 2
}
