{
 "cells": [
  {
   "cell_type": "markdown",
   "metadata": {},
   "source": [
    "# Pràctica 4: Espectres Òptics"
   ]
  },
  {
   "cell_type": "markdown",
   "metadata": {},
   "source": [
    "## (A) Posada a punt de l'aparell "
   ]
  },
  {
   "cell_type": "markdown",
   "metadata": {},
   "source": [
    "_corresponents observacions_"
   ]
  },
  {
   "cell_type": "markdown",
   "metadata": {},
   "source": [
    "## (B) Observació de l'espectre"
   ]
  },
  {
   "cell_type": "markdown",
   "metadata": {},
   "source": [
    "_corresponents observacions_"
   ]
  },
  {
   "cell_type": "markdown",
   "metadata": {},
   "source": [
    "## (C) Calibració de l'espectròmetre\n",
    "\n",
    "Mesures de la desviació mínima, $\\delta_m$ per a cada longitud d'ona del mercuri\n",
    "\n",
    "* `longsHg[i]` és la longitud d'ona de cada ratlla en Å\n",
    "* `deltaHg[i]` és la mitjana de les corresponents mesures de $\\delta_m$, en graus"
   ]
  },
  {
   "cell_type": "code",
   "execution_count": 13,
   "metadata": {},
   "outputs": [],
   "source": [
    "longsHg = [4046.6, 4078.2, 4358.3, 4916.0, 5460.7, 5769.6, 5789.7, 5790.7]\n",
    "deltaHg = []\n",
    "deltaRef = mean([110.0333, 110.05, 110.05])"
   ]
  },
  {
   "cell_type": "markdown",
   "metadata": {},
   "source": [
    "* Mesura de la ratlla violeta ($\\lambda = 4046.6 Å$)"
   ]
  },
  {
   "cell_type": "code",
   "execution_count": 14,
   "metadata": {},
   "outputs": [],
   "source": [
    "deltaHg.append(mean([35.95, 35.925]))"
   ]
  },
  {
   "cell_type": "markdown",
   "metadata": {},
   "source": [
    "_i successives mesures_"
   ]
  },
  {
   "cell_type": "markdown",
   "metadata": {},
   "source": [
    "* Mesura de la ratlla violeta ($\\lambda = 4078.2 Å$)"
   ]
  },
  {
   "cell_type": "code",
   "execution_count": 15,
   "metadata": {},
   "outputs": [
    {
     "data": {
      "text/plain": [
       "[35.9375000000000, 36.1833300000000]"
      ]
     },
     "execution_count": 15,
     "metadata": {},
     "output_type": "execute_result"
    }
   ],
   "source": [
    "deltaHg.append(mean([36.15, 36.21666]))"
   ]
  },
  {
   "cell_type": "markdown",
   "metadata": {},
   "source": [
    "* Mesura de la ratlla blava ($\\lambda = 4358.3 Å$)"
   ]
  },
  {
   "cell_type": "code",
   "execution_count": 16,
   "metadata": {},
   "outputs": [],
   "source": [
    "deltaHg.append(mean([38.3, 38.3]))"
   ]
  },
  {
   "cell_type": "markdown",
   "metadata": {},
   "source": [
    "* Mesura de la ratlla verda-blava ($\\lambda = 4916.0 Å$)"
   ]
  },
  {
   "cell_type": "code",
   "execution_count": 7,
   "metadata": {
    "collapsed": true
   },
   "outputs": [],
   "source": [
    "deltaHg.append(mean([41.04167,41.1]))"
   ]
  },
  {
   "cell_type": "markdown",
   "metadata": {},
   "source": [
    "* Mesura de la ratlla verda ($\\lambda = 5460.7 Å$)"
   ]
  },
  {
   "cell_type": "code",
   "execution_count": 7,
   "metadata": {
    "collapsed": true
   },
   "outputs": [],
   "source": [
    "deltaHg.append(mean([42.783333, 42.75]))"
   ]
  },
  {
   "cell_type": "markdown",
   "metadata": {},
   "source": [
    "* Mesura de la ratlla groga ($\\lambda = 5769.6 Å$)"
   ]
  },
  {
   "cell_type": "code",
   "execution_count": 7,
   "metadata": {
    "collapsed": true
   },
   "outputs": [],
   "source": [
    "deltaHg.append(mean([43.45, 43.5]))"
   ]
  },
  {
   "cell_type": "markdown",
   "metadata": {},
   "source": [
    "* Mesura de la ratlla groga ($\\lambda = 5789.7 Å$)"
   ]
  },
  {
   "cell_type": "code",
   "execution_count": 7,
   "metadata": {
    "collapsed": true
   },
   "outputs": [],
   "source": [
    "deltaHg.append(mean([43.55, 43.5416666]))"
   ]
  },
  {
   "cell_type": "markdown",
   "metadata": {},
   "source": [
    "Fem l'ajust per a la fórmula de Hartmann\n",
    "\n",
    "$$\\lambda(\\delta) = \\lambda_0 + \\frac{C}{\\delta - \\delta_0}$$"
   ]
  },
  {
   "cell_type": "code",
   "execution_count": 13,
   "metadata": {},
   "outputs": [],
   "source": [
    "var('lambda_0, delta_0, C')\n",
    "hartmann(x) = lambda_0 + C/(x - delta_0)\n",
    "\n",
    "#find_fit(zip(deltaHg, longsHg), hartmann) "
   ]
  },
  {
   "cell_type": "markdown",
   "metadata": {},
   "source": [
    "_faltarà fer l'ajust lineal per trobar R^2_"
   ]
  },
  {
   "cell_type": "markdown",
   "metadata": {},
   "source": [
    "## (D) Determinació de longituds d'ona\n",
    "\n",
    "Ara mesurem els angles de desviació mínima i calculem les longituds d'ona de les corresponents franges de l'espectre de cadmi fent servir la fórmula de Hartmann\n",
    "\n",
    "* `longsCd[i]` és la longitud d'ona de cada ratlla en Å\n",
    "* `deltaCd[i]` és la mitjana de les corresponents mesures de $\\delta_m$, en graus "
   ]
  },
  {
   "cell_type": "code",
   "execution_count": null,
   "metadata": {
    "collapsed": true
   },
   "outputs": [],
   "source": [
    "longsCd = []\n",
    "longsCd_teo = [4413, 4799.9, 4678.2, 5155.1, 5085.8, 6438.5]\n",
    "deltaCd = []"
   ]
  },
  {
   "cell_type": "markdown",
   "metadata": {},
   "source": [
    "* Mesura de la ratlla violeta ($\\lambda = 4413 Å$)"
   ]
  },
  {
   "cell_type": "code",
   "execution_count": 14,
   "metadata": {
    "collapsed": true
   },
   "outputs": [],
   "source": [
    "longsHg += []\n",
    "deltaCd.append(mean([38.625, 38.6583333]))"
   ]
  },
  {
   "cell_type": "markdown",
   "metadata": {},
   "source": [
    "* Mesura de la ratlla blava ($\\lambda = 4678.2 Å$)"
   ]
  },
  {
   "cell_type": "code",
   "execution_count": 14,
   "metadata": {
    "collapsed": true
   },
   "outputs": [],
   "source": [
    "longsHg += []\n",
    "deltaCd.append(mean([40.09166666, 40.091666666]))"
   ]
  },
  {
   "cell_type": "markdown",
   "metadata": {},
   "source": [
    "* Mesura de la ratlla blava ($\\lambda = 4799.9 Å$)"
   ]
  },
  {
   "cell_type": "code",
   "execution_count": 14,
   "metadata": {
    "collapsed": true
   },
   "outputs": [],
   "source": [
    "longsHg += []\n",
    "deltaCd.append(mean([40.6, 40.625]))"
   ]
  },
  {
   "cell_type": "markdown",
   "metadata": {},
   "source": [
    "* Mesura de la ratlla verda ($\\lambda = 5085.8 Å$)"
   ]
  },
  {
   "cell_type": "code",
   "execution_count": 14,
   "metadata": {
    "collapsed": true
   },
   "outputs": [],
   "source": [
    "longsHg += []\n",
    "deltaCd.append(mean([41.683333, 41.683333]))"
   ]
  },
  {
   "cell_type": "markdown",
   "metadata": {},
   "source": [
    "* Mesura de la ratlla verda ($\\lambda = 5155.1 Å$)"
   ]
  },
  {
   "cell_type": "code",
   "execution_count": 14,
   "metadata": {
    "collapsed": true
   },
   "outputs": [],
   "source": [
    "longsHg += []\n",
    "deltaCd.append(mean([41.88333, 41.9083333]))"
   ]
  },
  {
   "cell_type": "markdown",
   "metadata": {},
   "source": [
    "* Mesura de la ratlla vermella ($\\lambda = 6438.5 Å$)"
   ]
  },
  {
   "cell_type": "code",
   "execution_count": 14,
   "metadata": {
    "collapsed": true
   },
   "outputs": [],
   "source": [
    "longsHg += []\n",
    "deltaCd.append(mean([44.6, 44.65]))"
   ]
  },
  {
   "cell_type": "markdown",
   "metadata": {},
   "source": [
    "_i successives mesures_"
   ]
  },
  {
   "cell_type": "markdown",
   "metadata": {},
   "source": [
    "_s'han de calcular les longituds d'ona a partir de Hartmann i comparar-les amb les teòriques_"
   ]
  },
  {
   "cell_type": "markdown",
   "metadata": {},
   "source": [
    "Fem l'anàlisi de l'error, fent servir\n",
    "$$u(\\lambda) = \\frac{C}{(\\delta - \\delta_0)^2} u(\\delta)$$\n",
    "i la precisió en la mesura de l'angle, `u_delta`"
   ]
  },
  {
   "cell_type": "code",
   "execution_count": 15,
   "metadata": {
    "collapsed": true
   },
   "outputs": [],
   "source": [
    "u_delta = 0"
   ]
  },
  {
   "cell_type": "markdown",
   "metadata": {},
   "source": [
    "## (E) Corba de dispersió del vidre\n",
    "Fem servir la fórmula $$n(\\lambda) = \\frac{\\sin{\\left(\\frac{\\delta(\\lambda) + \\alpha}{2}\\right)}}{\\sin{\\left(\\frac{\\alpha}{2}\\right)}}$$\n",
    "amb $\\alpha = 60º$ per trobar els diversos índexs de dispersió del vidre"
   ]
  },
  {
   "cell_type": "code",
   "execution_count": 18,
   "metadata": {},
   "outputs": [],
   "source": [
    "# Definim funcions trigonomètriques per graus\n",
    "sind(x) = sin(180/pi * x)"
   ]
  },
  {
   "cell_type": "code",
   "execution_count": 20,
   "metadata": {
    "collapsed": true
   },
   "outputs": [],
   "source": [
    "index(x) = sin((x + 60)/2) / sin(60/2)\n",
    "ns = []\n",
    "\n",
    "# Calcular els corresponents índexos de refracció"
   ]
  },
  {
   "cell_type": "markdown",
   "metadata": {},
   "source": [
    "_s'ha de calcular el nombre d'Abbe del vidre_"
   ]
  },
  {
   "cell_type": "markdown",
   "metadata": {},
   "source": [
    "## (F) Observació de diferents espectres "
   ]
  },
  {
   "cell_type": "markdown",
   "metadata": {},
   "source": [
    "_corresponents observacions_"
   ]
  }
 ],
 "metadata": {
  "kernelspec": {
   "display_name": "SageMath 8.6",
   "language": "",
   "name": "sagemath"
  },
  "language_info": {
   "codemirror_mode": {
    "name": "ipython",
    "version": 2
   },
   "file_extension": ".py",
   "mimetype": "text/x-python",
   "name": "python",
   "nbconvert_exporter": "python",
   "pygments_lexer": "ipython2",
   "version": "2.7.15"
  }
 },
 "nbformat": 4,
 "nbformat_minor": 2
}
